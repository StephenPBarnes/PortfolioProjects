{
 "cells": [
  {
   "cell_type": "code",
   "execution_count": 90,
   "id": "688d760d",
   "metadata": {},
   "outputs": [
    {
     "name": "stdout",
     "output_type": "stream",
     "text": [
      "Requirement already satisfied: termcolor in /Users/derp/jupyter/lib/python3.9/site-packages (1.1.0)\n",
      "\u001b[33mWARNING: You are using pip version 21.2.1; however, version 21.2.4 is available.\n",
      "You should consider upgrading via the '/Users/derp/jupyter/bin/python -m pip install --upgrade pip' command.\u001b[0m\n"
     ]
    }
   ],
   "source": [
    "import numpy as np\n",
    "import pandas as pd\n",
    "import matplotlib.pyplot as plt\n",
    "from pylab import rcParams\n",
    "import sklearn\n",
    "from sklearn.linear_model import LinearRegression\n",
    "from sklearn.model_selection import train_test_split\n",
    "from sklearn.preprocessing import scale\n",
    "from sklearn import metrics\n",
    "!pip install termcolor\n",
    "from termcolor import colored as cl\n",
    "import seaborn as sns\n",
    "%matplotlib inline"
   ]
  },
  {
   "cell_type": "code",
   "execution_count": 91,
   "id": "5b4327f9",
   "metadata": {},
   "outputs": [],
   "source": [
    "df=pd.read_csv('/Users/derp/Downloads/PortfolioProjects/housingdata/NashvilleHousing_Cleaned.csv')"
   ]
  },
  {
   "cell_type": "code",
   "execution_count": 92,
   "id": "a3015f8b",
   "metadata": {},
   "outputs": [
    {
     "data": {
      "text/html": [
       "<div>\n",
       "<style scoped>\n",
       "    .dataframe tbody tr th:only-of-type {\n",
       "        vertical-align: middle;\n",
       "    }\n",
       "\n",
       "    .dataframe tbody tr th {\n",
       "        vertical-align: top;\n",
       "    }\n",
       "\n",
       "    .dataframe thead th {\n",
       "        text-align: right;\n",
       "    }\n",
       "</style>\n",
       "<table border=\"1\" class=\"dataframe\">\n",
       "  <thead>\n",
       "    <tr style=\"text-align: right;\">\n",
       "      <th></th>\n",
       "      <th>UniqueID</th>\n",
       "      <th>ParcelID</th>\n",
       "      <th>LandUse</th>\n",
       "      <th>SalePrice</th>\n",
       "      <th>LegalReference</th>\n",
       "      <th>SoldAsVacant</th>\n",
       "      <th>OwnerName</th>\n",
       "      <th>Acreage</th>\n",
       "      <th>LandValue</th>\n",
       "      <th>BuildingValue</th>\n",
       "      <th>...</th>\n",
       "      <th>YearBuilt</th>\n",
       "      <th>Bedrooms</th>\n",
       "      <th>FullBath</th>\n",
       "      <th>HalfBath</th>\n",
       "      <th>SaleDateConverted</th>\n",
       "      <th>PropertySplitAddress</th>\n",
       "      <th>PropertySplictCity</th>\n",
       "      <th>OwnerSplitAddress</th>\n",
       "      <th>OwnerSplictCity</th>\n",
       "      <th>OwnerSplictState</th>\n",
       "    </tr>\n",
       "  </thead>\n",
       "  <tbody>\n",
       "    <tr>\n",
       "      <th>0</th>\n",
       "      <td>2045</td>\n",
       "      <td>007 00 0 125.00</td>\n",
       "      <td>SINGLE FAMILY</td>\n",
       "      <td>240000</td>\n",
       "      <td>20130412-0036474</td>\n",
       "      <td>No</td>\n",
       "      <td>FRAZIER, CYRENTHA LYNETTE</td>\n",
       "      <td>2.3</td>\n",
       "      <td>50000.0</td>\n",
       "      <td>168200.0</td>\n",
       "      <td>...</td>\n",
       "      <td>1986.0</td>\n",
       "      <td>3.0</td>\n",
       "      <td>3.0</td>\n",
       "      <td>0.0</td>\n",
       "      <td>2013-04-09</td>\n",
       "      <td>1808  FOX CHASE DR</td>\n",
       "      <td>GOODLETTSVILLE</td>\n",
       "      <td>1808  FOX CHASE DR</td>\n",
       "      <td>GOODLETTSVILLE</td>\n",
       "      <td>TN</td>\n",
       "    </tr>\n",
       "    <tr>\n",
       "      <th>1</th>\n",
       "      <td>16918</td>\n",
       "      <td>007 00 0 130.00</td>\n",
       "      <td>SINGLE FAMILY</td>\n",
       "      <td>366000</td>\n",
       "      <td>20140619-0053768</td>\n",
       "      <td>No</td>\n",
       "      <td>BONER, CHARLES &amp; LESLIE</td>\n",
       "      <td>3.5</td>\n",
       "      <td>50000.0</td>\n",
       "      <td>264100.0</td>\n",
       "      <td>...</td>\n",
       "      <td>1998.0</td>\n",
       "      <td>3.0</td>\n",
       "      <td>3.0</td>\n",
       "      <td>2.0</td>\n",
       "      <td>2014-06-10</td>\n",
       "      <td>1832  FOX CHASE DR</td>\n",
       "      <td>GOODLETTSVILLE</td>\n",
       "      <td>1832  FOX CHASE DR</td>\n",
       "      <td>GOODLETTSVILLE</td>\n",
       "      <td>TN</td>\n",
       "    </tr>\n",
       "    <tr>\n",
       "      <th>2</th>\n",
       "      <td>54582</td>\n",
       "      <td>007 00 0 138.00</td>\n",
       "      <td>SINGLE FAMILY</td>\n",
       "      <td>435000</td>\n",
       "      <td>20160927-0101718</td>\n",
       "      <td>No</td>\n",
       "      <td>WILSON, JAMES E. &amp; JOANNE</td>\n",
       "      <td>2.9</td>\n",
       "      <td>50000.0</td>\n",
       "      <td>216200.0</td>\n",
       "      <td>...</td>\n",
       "      <td>1987.0</td>\n",
       "      <td>4.0</td>\n",
       "      <td>3.0</td>\n",
       "      <td>0.0</td>\n",
       "      <td>2016-09-26</td>\n",
       "      <td>1864 FOX CHASE  DR</td>\n",
       "      <td>GOODLETTSVILLE</td>\n",
       "      <td>1864  FOX CHASE DR</td>\n",
       "      <td>GOODLETTSVILLE</td>\n",
       "      <td>TN</td>\n",
       "    </tr>\n",
       "    <tr>\n",
       "      <th>3</th>\n",
       "      <td>43070</td>\n",
       "      <td>007 00 0 143.00</td>\n",
       "      <td>SINGLE FAMILY</td>\n",
       "      <td>255000</td>\n",
       "      <td>20160129-0008913</td>\n",
       "      <td>No</td>\n",
       "      <td>BAKER, JAY K. &amp; SUSAN E.</td>\n",
       "      <td>2.6</td>\n",
       "      <td>50000.0</td>\n",
       "      <td>147300.0</td>\n",
       "      <td>...</td>\n",
       "      <td>1985.0</td>\n",
       "      <td>3.0</td>\n",
       "      <td>3.0</td>\n",
       "      <td>0.0</td>\n",
       "      <td>2016-01-29</td>\n",
       "      <td>1853  FOX CHASE DR</td>\n",
       "      <td>GOODLETTSVILLE</td>\n",
       "      <td>1853  FOX CHASE DR</td>\n",
       "      <td>GOODLETTSVILLE</td>\n",
       "      <td>TN</td>\n",
       "    </tr>\n",
       "    <tr>\n",
       "      <th>4</th>\n",
       "      <td>22714</td>\n",
       "      <td>007 00 0 149.00</td>\n",
       "      <td>SINGLE FAMILY</td>\n",
       "      <td>278000</td>\n",
       "      <td>20141015-0095255</td>\n",
       "      <td>No</td>\n",
       "      <td>POST, CHRISTOPHER M. &amp; SAMANTHA C.</td>\n",
       "      <td>2.0</td>\n",
       "      <td>50000.0</td>\n",
       "      <td>152300.0</td>\n",
       "      <td>...</td>\n",
       "      <td>1984.0</td>\n",
       "      <td>4.0</td>\n",
       "      <td>3.0</td>\n",
       "      <td>0.0</td>\n",
       "      <td>2014-10-10</td>\n",
       "      <td>1829  FOX CHASE DR</td>\n",
       "      <td>GOODLETTSVILLE</td>\n",
       "      <td>1829  FOX CHASE DR</td>\n",
       "      <td>GOODLETTSVILLE</td>\n",
       "      <td>TN</td>\n",
       "    </tr>\n",
       "  </tbody>\n",
       "</table>\n",
       "<p>5 rows × 21 columns</p>\n",
       "</div>"
      ],
      "text/plain": [
       "   UniqueID         ParcelID        LandUse SalePrice    LegalReference  \\\n",
       "0      2045  007 00 0 125.00  SINGLE FAMILY    240000  20130412-0036474   \n",
       "1     16918  007 00 0 130.00  SINGLE FAMILY    366000  20140619-0053768   \n",
       "2     54582  007 00 0 138.00  SINGLE FAMILY    435000  20160927-0101718   \n",
       "3     43070  007 00 0 143.00  SINGLE FAMILY    255000  20160129-0008913   \n",
       "4     22714  007 00 0 149.00  SINGLE FAMILY    278000  20141015-0095255   \n",
       "\n",
       "  SoldAsVacant                           OwnerName  Acreage  LandValue  \\\n",
       "0           No           FRAZIER, CYRENTHA LYNETTE      2.3    50000.0   \n",
       "1           No             BONER, CHARLES & LESLIE      3.5    50000.0   \n",
       "2           No           WILSON, JAMES E. & JOANNE      2.9    50000.0   \n",
       "3           No            BAKER, JAY K. & SUSAN E.      2.6    50000.0   \n",
       "4           No  POST, CHRISTOPHER M. & SAMANTHA C.      2.0    50000.0   \n",
       "\n",
       "   BuildingValue  ...  YearBuilt  Bedrooms  FullBath  HalfBath  \\\n",
       "0       168200.0  ...     1986.0       3.0       3.0       0.0   \n",
       "1       264100.0  ...     1998.0       3.0       3.0       2.0   \n",
       "2       216200.0  ...     1987.0       4.0       3.0       0.0   \n",
       "3       147300.0  ...     1985.0       3.0       3.0       0.0   \n",
       "4       152300.0  ...     1984.0       4.0       3.0       0.0   \n",
       "\n",
       "   SaleDateConverted PropertySplitAddress PropertySplictCity  \\\n",
       "0         2013-04-09   1808  FOX CHASE DR     GOODLETTSVILLE   \n",
       "1         2014-06-10   1832  FOX CHASE DR     GOODLETTSVILLE   \n",
       "2         2016-09-26   1864 FOX CHASE  DR     GOODLETTSVILLE   \n",
       "3         2016-01-29   1853  FOX CHASE DR     GOODLETTSVILLE   \n",
       "4         2014-10-10   1829  FOX CHASE DR     GOODLETTSVILLE   \n",
       "\n",
       "    OwnerSplitAddress  OwnerSplictCity OwnerSplictState  \n",
       "0  1808  FOX CHASE DR   GOODLETTSVILLE               TN  \n",
       "1  1832  FOX CHASE DR   GOODLETTSVILLE               TN  \n",
       "2  1864  FOX CHASE DR   GOODLETTSVILLE               TN  \n",
       "3  1853  FOX CHASE DR   GOODLETTSVILLE               TN  \n",
       "4  1829  FOX CHASE DR   GOODLETTSVILLE               TN  \n",
       "\n",
       "[5 rows x 21 columns]"
      ]
     },
     "execution_count": 92,
     "metadata": {},
     "output_type": "execute_result"
    }
   ],
   "source": [
    "df.head()\n"
   ]
  },
  {
   "cell_type": "code",
   "execution_count": 70,
   "id": "e97e078a",
   "metadata": {},
   "outputs": [
    {
     "data": {
      "text/plain": [
       "<seaborn.axisgrid.PairGrid at 0x1576967c0>"
      ]
     },
     "execution_count": 70,
     "metadata": {},
     "output_type": "execute_result"
    },
    {
     "data": {
      "image/png": "[encoded data removed]",
      "text/plain": [
       "<Figure size 180x720 with 4 Axes>"
      ]
     },
     "metadata": {
      "needs_background": "light"
     },
     "output_type": "display_data"
    }
   ],
   "source": [
    "##df.columns = ['SalePrice', 'Acreage', 'YearBuilt', 'Bedrooms', 'LandValue', 'BuildingValue' ]\n",
    "##df.head()\n",
    "##sns.pairplot(df)\n",
    "\n",
    "sns.pairplot(data=df,\n",
    "                  x_vars=['SalePrice'],\n",
    "                  y_vars=['Acreage', 'Bedrooms', 'LandValue', 'BuildingValue'])"
   ]
  },
  {
   "cell_type": "code",
   "execution_count": 71,
   "id": "edc9b193",
   "metadata": {},
   "outputs": [
    {
     "name": "stdout",
     "output_type": "stream",
     "text": [
      "               UniqueID   Acreage  LandValue  BuildingValue  TotalValue  \\\n",
      "UniqueID       1.000000  0.004745  -0.058441      -0.064508   -0.068610   \n",
      "Acreage        0.004745  1.000000   0.324350       0.222900    0.287369   \n",
      "LandValue     -0.058441  0.324350   1.000000       0.617770    0.824068   \n",
      "BuildingValue -0.064508  0.222900   0.617770       1.000000    0.954035   \n",
      "TotalValue    -0.068610  0.287369   0.824068       0.954035    1.000000   \n",
      "YearBuilt      0.009134  0.019108  -0.015810       0.208028    0.142111   \n",
      "Bedrooms      -0.036037  0.155813   0.348330       0.448604    0.454961   \n",
      "FullBath      -0.051810  0.221249   0.544062       0.647215    0.672197   \n",
      "HalfBath      -0.019364  0.054709   0.189032       0.378268    0.343276   \n",
      "\n",
      "               YearBuilt  Bedrooms  FullBath  HalfBath  \n",
      "UniqueID        0.009134 -0.036037 -0.051810 -0.019364  \n",
      "Acreage         0.019108  0.155813  0.221249  0.054709  \n",
      "LandValue      -0.015810  0.348330  0.544062  0.189032  \n",
      "BuildingValue   0.208028  0.448604  0.647215  0.378268  \n",
      "TotalValue      0.142111  0.454961  0.672197  0.343276  \n",
      "YearBuilt       1.000000  0.161932  0.291534  0.259339  \n",
      "Bedrooms        0.161932  1.000000  0.612226  0.192956  \n",
      "FullBath        0.291534  0.612226  1.000000  0.086794  \n",
      "HalfBath        0.259339  0.192956  0.086794  1.000000  \n"
     ]
    }
   ],
   "source": [
    "print(df.corr())"
   ]
  },
  {
   "cell_type": "code",
   "execution_count": 93,
   "id": "9a76e7cd",
   "metadata": {},
   "outputs": [
    {
     "name": "stdout",
     "output_type": "stream",
     "text": [
      "\u001b[1mUniqueID                0\n",
      "ParcelID                0\n",
      "LandUse                 0\n",
      "SalePrice               0\n",
      "LegalReference          0\n",
      "SoldAsVacant            0\n",
      "OwnerName               0\n",
      "Acreage                 0\n",
      "LandValue               0\n",
      "BuildingValue           0\n",
      "TotalValue              0\n",
      "YearBuilt               0\n",
      "Bedrooms                0\n",
      "FullBath                0\n",
      "HalfBath                0\n",
      "SaleDateConverted       0\n",
      "PropertySplitAddress    0\n",
      "PropertySplictCity      0\n",
      "OwnerSplitAddress       0\n",
      "OwnerSplictCity         0\n",
      "OwnerSplictState        0\n",
      "dtype: int64\u001b[0m\n"
     ]
    }
   ],
   "source": [
    "##df[[\"Bedrooms\", \"Acreage\"]] = df[[\"Bedrooms\", \"Acreage\"]].apply(pd.to_int)\n",
    "\n",
    "df.dropna(inplace = True)\n",
    "\n",
    "print(cl(df.isnull().sum(), attrs = ['bold']))"
   ]
  },
  {
   "cell_type": "code",
   "execution_count": 97,
   "id": "5fb7e52d",
   "metadata": {},
   "outputs": [],
   "source": [
    "#df.replace(',','', regex=True, inplace=True)\n",
    "#c = df.select_dtypes(object).columns\n",
    "#df[c] = df[c].apply(pd.to_numeric,errors='coerce')\n",
    "\n"
   ]
  },
  {
   "cell_type": "code",
   "execution_count": 89,
   "id": "390635ff",
   "metadata": {},
   "outputs": [
    {
     "data": {
      "text/plain": [
       "<bound method DataFrame.dropna of        UniqueID  ParcelID  LandUse  SalePrice  LegalReference  SoldAsVacant  \\\n",
       "0          2045       NaN      NaN   240000.0             NaN           NaN   \n",
       "1         16918       NaN      NaN   366000.0             NaN           NaN   \n",
       "2         54582       NaN      NaN   435000.0             NaN           NaN   \n",
       "3         43070       NaN      NaN   255000.0             NaN           NaN   \n",
       "4         22714       NaN      NaN   278000.0             NaN           NaN   \n",
       "...         ...       ...      ...        ...             ...           ...   \n",
       "54106     51558       NaN      NaN   258000.0             NaN           NaN   \n",
       "54107     34115       NaN      NaN   339528.0             NaN           NaN   \n",
       "54108     20731       NaN      NaN   230000.0             NaN           NaN   \n",
       "54109     23447       NaN      NaN   237900.0             NaN           NaN   \n",
       "54110     23448       NaN      NaN   259000.0             NaN           NaN   \n",
       "\n",
       "       OwnerName  Acreage  LandValue  BuildingValue  ...  YearBuilt  Bedrooms  \\\n",
       "0            NaN     2.30    50000.0       168200.0  ...     1986.0       3.0   \n",
       "1            NaN     3.50    50000.0       264100.0  ...     1998.0       3.0   \n",
       "2            NaN     2.90    50000.0       216200.0  ...     1987.0       4.0   \n",
       "3            NaN     2.60    50000.0       147300.0  ...     1985.0       3.0   \n",
       "4            NaN     2.00    50000.0       152300.0  ...     1984.0       4.0   \n",
       "...          ...      ...        ...            ...  ...        ...       ...   \n",
       "54106        NaN     3.00   111000.0       155800.0  ...     1978.0       4.0   \n",
       "54107        NaN     3.00   111000.0       141700.0  ...     1978.0       3.0   \n",
       "54108        NaN     3.03   111500.0       210400.0  ...     1980.0       3.0   \n",
       "54109        NaN     1.03    59000.0       104100.0  ...     1985.0       3.0   \n",
       "54110        NaN     0.46    59000.0       194000.0  ...     2001.0       3.0   \n",
       "\n",
       "       FullBath  HalfBath  SaleDateConverted  PropertySplitAddress  \\\n",
       "0           3.0       0.0                NaN                   NaN   \n",
       "1           3.0       2.0                NaN                   NaN   \n",
       "2           3.0       0.0                NaN                   NaN   \n",
       "3           3.0       0.0                NaN                   NaN   \n",
       "4           3.0       0.0                NaN                   NaN   \n",
       "...         ...       ...                ...                   ...   \n",
       "54106       2.0       0.0                NaN                   NaN   \n",
       "54107       2.0       0.0                NaN                   NaN   \n",
       "54108       2.0       0.0                NaN                   NaN   \n",
       "54109       3.0       0.0                NaN                   NaN   \n",
       "54110       2.0       1.0                NaN                   NaN   \n",
       "\n",
       "       PropertySplictCity  OwnerSplitAddress  OwnerSplictCity  \\\n",
       "0                     NaN                NaN              NaN   \n",
       "1                     NaN                NaN              NaN   \n",
       "2                     NaN                NaN              NaN   \n",
       "3                     NaN                NaN              NaN   \n",
       "4                     NaN                NaN              NaN   \n",
       "...                   ...                ...              ...   \n",
       "54106                 NaN                NaN              NaN   \n",
       "54107                 NaN                NaN              NaN   \n",
       "54108                 NaN                NaN              NaN   \n",
       "54109                 NaN                NaN              NaN   \n",
       "54110                 NaN                NaN              NaN   \n",
       "\n",
       "       OwnerSplictState  \n",
       "0                   NaN  \n",
       "1                   NaN  \n",
       "2                   NaN  \n",
       "3                   NaN  \n",
       "4                   NaN  \n",
       "...                 ...  \n",
       "54106               NaN  \n",
       "54107               NaN  \n",
       "54108               NaN  \n",
       "54109               NaN  \n",
       "54110               NaN  \n",
       "\n",
       "[23678 rows x 21 columns]>"
      ]
     },
     "execution_count": 89,
     "metadata": {},
     "output_type": "execute_result"
    }
   ],
   "source": [
    "#df.dropna"
   ]
  },
  {
   "cell_type": "code",
   "execution_count": 49,
   "id": "c3251e05",
   "metadata": {},
   "outputs": [],
   "source": [
    "####price_data = df[['Acreage', 'Bedrooms', 'LandValue', 'BuildingValue']].values\n",
    "####price_target = df[['SalePrice']].values\n",
    "####price_data_names = ['Acreage', 'Bedrooms', 'LandValue', 'BuildingValue']\n",
    "\n",
    "####X,y = scale(price_data), price_target\n",
    "\n",
    "####LinReg = LinearRegression(normalize=True)\n",
    "####LinReg.fit(X,y)\n",
    "####print(LinReg.score(X,y))"
   ]
  },
  {
   "cell_type": "code",
   "execution_count": 59,
   "id": "50f10e81",
   "metadata": {},
   "outputs": [
    {
     "ename": "TypeError",
     "evalue": "'numpy.ndarray' object is not callable",
     "output_type": "error",
     "traceback": [
      "\u001b[0;31m---------------------------------------------------------------------------\u001b[0m",
      "\u001b[0;31mTypeError\u001b[0m                                 Traceback (most recent call last)",
      "\u001b[0;32m/var/folders/gn/d7g9hnzn0m39k1cp63phbvgm0000gn/T/ipykernel_20045/1902067835.py\u001b[0m in \u001b[0;36m<module>\u001b[0;34m\u001b[0m\n\u001b[1;32m      1\u001b[0m \u001b[0;31m## check for missing values\u001b[0m\u001b[0;34m\u001b[0m\u001b[0;34m\u001b[0m\u001b[0;34m\u001b[0m\u001b[0m\n\u001b[1;32m      2\u001b[0m \u001b[0mmissing_values\u001b[0m \u001b[0;34m=\u001b[0m \u001b[0mx\u001b[0m\u001b[0;34m==\u001b[0m\u001b[0mnp\u001b[0m\u001b[0;34m.\u001b[0m\u001b[0mNAN\u001b[0m\u001b[0;34m\u001b[0m\u001b[0;34m\u001b[0m\u001b[0m\n\u001b[0;32m----> 3\u001b[0;31m \u001b[0mprint\u001b[0m\u001b[0;34m(\u001b[0m\u001b[0mx\u001b[0m\u001b[0;34m(\u001b[0m\u001b[0mmissing_values\u001b[0m\u001b[0;34m==\u001b[0m\u001b[0;32mTrue\u001b[0m\u001b[0;34m)\u001b[0m\u001b[0;34m)\u001b[0m\u001b[0;34m\u001b[0m\u001b[0;34m\u001b[0m\u001b[0m\n\u001b[0m",
      "\u001b[0;31mTypeError\u001b[0m: 'numpy.ndarray' object is not callable"
     ]
    }
   ],
   "source": [
    "## check for missing values\n",
    "##missing_values = x==np.NAN\n",
    "##print(x(missing_values==True))"
   ]
  },
  {
   "cell_type": "code",
   "execution_count": 58,
   "id": "1a0199a3",
   "metadata": {},
   "outputs": [
    {
     "ename": "IntCastingNaNError",
     "evalue": "Cannot convert non-finite values (NA or inf) to integer",
     "output_type": "error",
     "traceback": [
      "\u001b[0;31m---------------------------------------------------------------------------\u001b[0m",
      "\u001b[0;31mIntCastingNaNError\u001b[0m                        Traceback (most recent call last)",
      "\u001b[0;32m/var/folders/gn/d7g9hnzn0m39k1cp63phbvgm0000gn/T/ipykernel_20045/4152226705.py\u001b[0m in \u001b[0;36m<module>\u001b[0;34m\u001b[0m\n\u001b[1;32m      1\u001b[0m \u001b[0;31m## change data type from float to int\u001b[0m\u001b[0;34m\u001b[0m\u001b[0;34m\u001b[0m\u001b[0;34m\u001b[0m\u001b[0m\n\u001b[1;32m      2\u001b[0m \u001b[0mdf\u001b[0m\u001b[0;34m[\u001b[0m\u001b[0;34m'Acreage'\u001b[0m\u001b[0;34m]\u001b[0m \u001b[0;34m=\u001b[0m \u001b[0mpd\u001b[0m\u001b[0;34m.\u001b[0m\u001b[0mto_numeric\u001b[0m\u001b[0;34m(\u001b[0m\u001b[0mdf\u001b[0m\u001b[0;34m[\u001b[0m\u001b[0;34m'Acreage'\u001b[0m\u001b[0;34m]\u001b[0m\u001b[0;34m,\u001b[0m \u001b[0merrors\u001b[0m \u001b[0;34m=\u001b[0m \u001b[0;34m'coerce'\u001b[0m\u001b[0;34m)\u001b[0m\u001b[0;34m\u001b[0m\u001b[0;34m\u001b[0m\u001b[0m\n\u001b[0;32m----> 3\u001b[0;31m \u001b[0mdf\u001b[0m\u001b[0;34m[\u001b[0m\u001b[0;34m'Acreage'\u001b[0m\u001b[0;34m]\u001b[0m \u001b[0;34m=\u001b[0m \u001b[0mdf\u001b[0m\u001b[0;34m[\u001b[0m\u001b[0;34m'Acreage'\u001b[0m\u001b[0;34m]\u001b[0m\u001b[0;34m.\u001b[0m\u001b[0mastype\u001b[0m\u001b[0;34m(\u001b[0m\u001b[0;34m'int64'\u001b[0m\u001b[0;34m)\u001b[0m\u001b[0;34m\u001b[0m\u001b[0;34m\u001b[0m\u001b[0m\n\u001b[0m\u001b[1;32m      4\u001b[0m \u001b[0;34m\u001b[0m\u001b[0m\n\u001b[1;32m      5\u001b[0m \u001b[0mprint\u001b[0m\u001b[0;34m(\u001b[0m\u001b[0mcl\u001b[0m\u001b[0;34m(\u001b[0m\u001b[0mdf\u001b[0m\u001b[0;34m.\u001b[0m\u001b[0mdtypes\u001b[0m\u001b[0;34m,\u001b[0m \u001b[0mattrs\u001b[0m \u001b[0;34m=\u001b[0m \u001b[0;34m[\u001b[0m\u001b[0;34m'bold'\u001b[0m\u001b[0;34m]\u001b[0m\u001b[0;34m)\u001b[0m\u001b[0;34m)\u001b[0m\u001b[0;34m\u001b[0m\u001b[0;34m\u001b[0m\u001b[0m\n",
      "\u001b[0;32m~/jupyter/lib/python3.9/site-packages/pandas/core/generic.py\u001b[0m in \u001b[0;36mastype\u001b[0;34m(self, dtype, copy, errors)\u001b[0m\n\u001b[1;32m   5804\u001b[0m         \u001b[0;32melse\u001b[0m\u001b[0;34m:\u001b[0m\u001b[0;34m\u001b[0m\u001b[0;34m\u001b[0m\u001b[0m\n\u001b[1;32m   5805\u001b[0m             \u001b[0;31m# else, only a single dtype is given\u001b[0m\u001b[0;34m\u001b[0m\u001b[0;34m\u001b[0m\u001b[0;34m\u001b[0m\u001b[0m\n\u001b[0;32m-> 5806\u001b[0;31m             \u001b[0mnew_data\u001b[0m \u001b[0;34m=\u001b[0m \u001b[0mself\u001b[0m\u001b[0;34m.\u001b[0m\u001b[0m_mgr\u001b[0m\u001b[0;34m.\u001b[0m\u001b[0mastype\u001b[0m\u001b[0;34m(\u001b[0m\u001b[0mdtype\u001b[0m\u001b[0;34m=\u001b[0m\u001b[0mdtype\u001b[0m\u001b[0;34m,\u001b[0m \u001b[0mcopy\u001b[0m\u001b[0;34m=\u001b[0m\u001b[0mcopy\u001b[0m\u001b[0;34m,\u001b[0m \u001b[0merrors\u001b[0m\u001b[0;34m=\u001b[0m\u001b[0merrors\u001b[0m\u001b[0;34m)\u001b[0m\u001b[0;34m\u001b[0m\u001b[0;34m\u001b[0m\u001b[0m\n\u001b[0m\u001b[1;32m   5807\u001b[0m             \u001b[0;32mreturn\u001b[0m \u001b[0mself\u001b[0m\u001b[0;34m.\u001b[0m\u001b[0m_constructor\u001b[0m\u001b[0;34m(\u001b[0m\u001b[0mnew_data\u001b[0m\u001b[0;34m)\u001b[0m\u001b[0;34m.\u001b[0m\u001b[0m__finalize__\u001b[0m\u001b[0;34m(\u001b[0m\u001b[0mself\u001b[0m\u001b[0;34m,\u001b[0m \u001b[0mmethod\u001b[0m\u001b[0;34m=\u001b[0m\u001b[0;34m\"astype\"\u001b[0m\u001b[0;34m)\u001b[0m\u001b[0;34m\u001b[0m\u001b[0;34m\u001b[0m\u001b[0m\n\u001b[1;32m   5808\u001b[0m \u001b[0;34m\u001b[0m\u001b[0m\n",
      "\u001b[0;32m~/jupyter/lib/python3.9/site-packages/pandas/core/internals/managers.py\u001b[0m in \u001b[0;36mastype\u001b[0;34m(self, dtype, copy, errors)\u001b[0m\n\u001b[1;32m    412\u001b[0m \u001b[0;34m\u001b[0m\u001b[0m\n\u001b[1;32m    413\u001b[0m     \u001b[0;32mdef\u001b[0m \u001b[0mastype\u001b[0m\u001b[0;34m(\u001b[0m\u001b[0mself\u001b[0m\u001b[0;34m:\u001b[0m \u001b[0mT\u001b[0m\u001b[0;34m,\u001b[0m \u001b[0mdtype\u001b[0m\u001b[0;34m,\u001b[0m \u001b[0mcopy\u001b[0m\u001b[0;34m:\u001b[0m \u001b[0mbool\u001b[0m \u001b[0;34m=\u001b[0m \u001b[0;32mFalse\u001b[0m\u001b[0;34m,\u001b[0m \u001b[0merrors\u001b[0m\u001b[0;34m:\u001b[0m \u001b[0mstr\u001b[0m \u001b[0;34m=\u001b[0m \u001b[0;34m\"raise\"\u001b[0m\u001b[0;34m)\u001b[0m \u001b[0;34m->\u001b[0m \u001b[0mT\u001b[0m\u001b[0;34m:\u001b[0m\u001b[0;34m\u001b[0m\u001b[0;34m\u001b[0m\u001b[0m\n\u001b[0;32m--> 414\u001b[0;31m         \u001b[0;32mreturn\u001b[0m \u001b[0mself\u001b[0m\u001b[0;34m.\u001b[0m\u001b[0mapply\u001b[0m\u001b[0;34m(\u001b[0m\u001b[0;34m\"astype\"\u001b[0m\u001b[0;34m,\u001b[0m \u001b[0mdtype\u001b[0m\u001b[0;34m=\u001b[0m\u001b[0mdtype\u001b[0m\u001b[0;34m,\u001b[0m \u001b[0mcopy\u001b[0m\u001b[0;34m=\u001b[0m\u001b[0mcopy\u001b[0m\u001b[0;34m,\u001b[0m \u001b[0merrors\u001b[0m\u001b[0;34m=\u001b[0m\u001b[0merrors\u001b[0m\u001b[0;34m)\u001b[0m\u001b[0;34m\u001b[0m\u001b[0;34m\u001b[0m\u001b[0m\n\u001b[0m\u001b[1;32m    415\u001b[0m \u001b[0;34m\u001b[0m\u001b[0m\n\u001b[1;32m    416\u001b[0m     def convert(\n",
      "\u001b[0;32m~/jupyter/lib/python3.9/site-packages/pandas/core/internals/managers.py\u001b[0m in \u001b[0;36mapply\u001b[0;34m(self, f, align_keys, ignore_failures, **kwargs)\u001b[0m\n\u001b[1;32m    325\u001b[0m                     \u001b[0mapplied\u001b[0m \u001b[0;34m=\u001b[0m \u001b[0mb\u001b[0m\u001b[0;34m.\u001b[0m\u001b[0mapply\u001b[0m\u001b[0;34m(\u001b[0m\u001b[0mf\u001b[0m\u001b[0;34m,\u001b[0m \u001b[0;34m**\u001b[0m\u001b[0mkwargs\u001b[0m\u001b[0;34m)\u001b[0m\u001b[0;34m\u001b[0m\u001b[0;34m\u001b[0m\u001b[0m\n\u001b[1;32m    326\u001b[0m                 \u001b[0;32melse\u001b[0m\u001b[0;34m:\u001b[0m\u001b[0;34m\u001b[0m\u001b[0;34m\u001b[0m\u001b[0m\n\u001b[0;32m--> 327\u001b[0;31m                     \u001b[0mapplied\u001b[0m \u001b[0;34m=\u001b[0m \u001b[0mgetattr\u001b[0m\u001b[0;34m(\u001b[0m\u001b[0mb\u001b[0m\u001b[0;34m,\u001b[0m \u001b[0mf\u001b[0m\u001b[0;34m)\u001b[0m\u001b[0;34m(\u001b[0m\u001b[0;34m**\u001b[0m\u001b[0mkwargs\u001b[0m\u001b[0;34m)\u001b[0m\u001b[0;34m\u001b[0m\u001b[0;34m\u001b[0m\u001b[0m\n\u001b[0m\u001b[1;32m    328\u001b[0m             \u001b[0;32mexcept\u001b[0m \u001b[0;34m(\u001b[0m\u001b[0mTypeError\u001b[0m\u001b[0;34m,\u001b[0m \u001b[0mNotImplementedError\u001b[0m\u001b[0;34m)\u001b[0m\u001b[0;34m:\u001b[0m\u001b[0;34m\u001b[0m\u001b[0;34m\u001b[0m\u001b[0m\n\u001b[1;32m    329\u001b[0m                 \u001b[0;32mif\u001b[0m \u001b[0;32mnot\u001b[0m \u001b[0mignore_failures\u001b[0m\u001b[0;34m:\u001b[0m\u001b[0;34m\u001b[0m\u001b[0;34m\u001b[0m\u001b[0m\n",
      "\u001b[0;32m~/jupyter/lib/python3.9/site-packages/pandas/core/internals/blocks.py\u001b[0m in \u001b[0;36mastype\u001b[0;34m(self, dtype, copy, errors)\u001b[0m\n\u001b[1;32m    590\u001b[0m         \u001b[0mvalues\u001b[0m \u001b[0;34m=\u001b[0m \u001b[0mself\u001b[0m\u001b[0;34m.\u001b[0m\u001b[0mvalues\u001b[0m\u001b[0;34m\u001b[0m\u001b[0;34m\u001b[0m\u001b[0m\n\u001b[1;32m    591\u001b[0m \u001b[0;34m\u001b[0m\u001b[0m\n\u001b[0;32m--> 592\u001b[0;31m         \u001b[0mnew_values\u001b[0m \u001b[0;34m=\u001b[0m \u001b[0mastype_array_safe\u001b[0m\u001b[0;34m(\u001b[0m\u001b[0mvalues\u001b[0m\u001b[0;34m,\u001b[0m \u001b[0mdtype\u001b[0m\u001b[0;34m,\u001b[0m \u001b[0mcopy\u001b[0m\u001b[0;34m=\u001b[0m\u001b[0mcopy\u001b[0m\u001b[0;34m,\u001b[0m \u001b[0merrors\u001b[0m\u001b[0;34m=\u001b[0m\u001b[0merrors\u001b[0m\u001b[0;34m)\u001b[0m\u001b[0;34m\u001b[0m\u001b[0;34m\u001b[0m\u001b[0m\n\u001b[0m\u001b[1;32m    593\u001b[0m \u001b[0;34m\u001b[0m\u001b[0m\n\u001b[1;32m    594\u001b[0m         \u001b[0mnew_values\u001b[0m \u001b[0;34m=\u001b[0m \u001b[0mmaybe_coerce_values\u001b[0m\u001b[0;34m(\u001b[0m\u001b[0mnew_values\u001b[0m\u001b[0;34m)\u001b[0m\u001b[0;34m\u001b[0m\u001b[0;34m\u001b[0m\u001b[0m\n",
      "\u001b[0;32m~/jupyter/lib/python3.9/site-packages/pandas/core/dtypes/cast.py\u001b[0m in \u001b[0;36mastype_array_safe\u001b[0;34m(values, dtype, copy, errors)\u001b[0m\n\u001b[1;32m   1307\u001b[0m \u001b[0;34m\u001b[0m\u001b[0m\n\u001b[1;32m   1308\u001b[0m     \u001b[0;32mtry\u001b[0m\u001b[0;34m:\u001b[0m\u001b[0;34m\u001b[0m\u001b[0;34m\u001b[0m\u001b[0m\n\u001b[0;32m-> 1309\u001b[0;31m         \u001b[0mnew_values\u001b[0m \u001b[0;34m=\u001b[0m \u001b[0mastype_array\u001b[0m\u001b[0;34m(\u001b[0m\u001b[0mvalues\u001b[0m\u001b[0;34m,\u001b[0m \u001b[0mdtype\u001b[0m\u001b[0;34m,\u001b[0m \u001b[0mcopy\u001b[0m\u001b[0;34m=\u001b[0m\u001b[0mcopy\u001b[0m\u001b[0;34m)\u001b[0m\u001b[0;34m\u001b[0m\u001b[0;34m\u001b[0m\u001b[0m\n\u001b[0m\u001b[1;32m   1310\u001b[0m     \u001b[0;32mexcept\u001b[0m \u001b[0;34m(\u001b[0m\u001b[0mValueError\u001b[0m\u001b[0;34m,\u001b[0m \u001b[0mTypeError\u001b[0m\u001b[0;34m)\u001b[0m\u001b[0;34m:\u001b[0m\u001b[0;34m\u001b[0m\u001b[0;34m\u001b[0m\u001b[0m\n\u001b[1;32m   1311\u001b[0m         \u001b[0;31m# e.g. astype_nansafe can fail on object-dtype of strings\u001b[0m\u001b[0;34m\u001b[0m\u001b[0;34m\u001b[0m\u001b[0;34m\u001b[0m\u001b[0m\n",
      "\u001b[0;32m~/jupyter/lib/python3.9/site-packages/pandas/core/dtypes/cast.py\u001b[0m in \u001b[0;36mastype_array\u001b[0;34m(values, dtype, copy)\u001b[0m\n\u001b[1;32m   1255\u001b[0m \u001b[0;34m\u001b[0m\u001b[0m\n\u001b[1;32m   1256\u001b[0m     \u001b[0;32melse\u001b[0m\u001b[0;34m:\u001b[0m\u001b[0;34m\u001b[0m\u001b[0;34m\u001b[0m\u001b[0m\n\u001b[0;32m-> 1257\u001b[0;31m         \u001b[0mvalues\u001b[0m \u001b[0;34m=\u001b[0m \u001b[0mastype_nansafe\u001b[0m\u001b[0;34m(\u001b[0m\u001b[0mvalues\u001b[0m\u001b[0;34m,\u001b[0m \u001b[0mdtype\u001b[0m\u001b[0;34m,\u001b[0m \u001b[0mcopy\u001b[0m\u001b[0;34m=\u001b[0m\u001b[0mcopy\u001b[0m\u001b[0;34m)\u001b[0m\u001b[0;34m\u001b[0m\u001b[0;34m\u001b[0m\u001b[0m\n\u001b[0m\u001b[1;32m   1258\u001b[0m \u001b[0;34m\u001b[0m\u001b[0m\n\u001b[1;32m   1259\u001b[0m     \u001b[0;31m# in pandas we don't store numpy str dtypes, so convert to object\u001b[0m\u001b[0;34m\u001b[0m\u001b[0;34m\u001b[0m\u001b[0;34m\u001b[0m\u001b[0m\n",
      "\u001b[0;32m~/jupyter/lib/python3.9/site-packages/pandas/core/dtypes/cast.py\u001b[0m in \u001b[0;36mastype_nansafe\u001b[0;34m(arr, dtype, copy, skipna)\u001b[0m\n\u001b[1;32m   1166\u001b[0m \u001b[0;34m\u001b[0m\u001b[0m\n\u001b[1;32m   1167\u001b[0m     \u001b[0;32melif\u001b[0m \u001b[0mnp\u001b[0m\u001b[0;34m.\u001b[0m\u001b[0missubdtype\u001b[0m\u001b[0;34m(\u001b[0m\u001b[0marr\u001b[0m\u001b[0;34m.\u001b[0m\u001b[0mdtype\u001b[0m\u001b[0;34m,\u001b[0m \u001b[0mnp\u001b[0m\u001b[0;34m.\u001b[0m\u001b[0mfloating\u001b[0m\u001b[0;34m)\u001b[0m \u001b[0;32mand\u001b[0m \u001b[0mnp\u001b[0m\u001b[0;34m.\u001b[0m\u001b[0missubdtype\u001b[0m\u001b[0;34m(\u001b[0m\u001b[0mdtype\u001b[0m\u001b[0;34m,\u001b[0m \u001b[0mnp\u001b[0m\u001b[0;34m.\u001b[0m\u001b[0minteger\u001b[0m\u001b[0;34m)\u001b[0m\u001b[0;34m:\u001b[0m\u001b[0;34m\u001b[0m\u001b[0;34m\u001b[0m\u001b[0m\n\u001b[0;32m-> 1168\u001b[0;31m         \u001b[0;32mreturn\u001b[0m \u001b[0mastype_float_to_int_nansafe\u001b[0m\u001b[0;34m(\u001b[0m\u001b[0marr\u001b[0m\u001b[0;34m,\u001b[0m \u001b[0mdtype\u001b[0m\u001b[0;34m,\u001b[0m \u001b[0mcopy\u001b[0m\u001b[0;34m)\u001b[0m\u001b[0;34m\u001b[0m\u001b[0;34m\u001b[0m\u001b[0m\n\u001b[0m\u001b[1;32m   1169\u001b[0m \u001b[0;34m\u001b[0m\u001b[0m\n\u001b[1;32m   1170\u001b[0m     \u001b[0;32melif\u001b[0m \u001b[0mis_object_dtype\u001b[0m\u001b[0;34m(\u001b[0m\u001b[0marr\u001b[0m\u001b[0;34m)\u001b[0m\u001b[0;34m:\u001b[0m\u001b[0;34m\u001b[0m\u001b[0;34m\u001b[0m\u001b[0m\n",
      "\u001b[0;32m~/jupyter/lib/python3.9/site-packages/pandas/core/dtypes/cast.py\u001b[0m in \u001b[0;36mastype_float_to_int_nansafe\u001b[0;34m(values, dtype, copy)\u001b[0m\n\u001b[1;32m   1211\u001b[0m     \"\"\"\n\u001b[1;32m   1212\u001b[0m     \u001b[0;32mif\u001b[0m \u001b[0;32mnot\u001b[0m \u001b[0mnp\u001b[0m\u001b[0;34m.\u001b[0m\u001b[0misfinite\u001b[0m\u001b[0;34m(\u001b[0m\u001b[0mvalues\u001b[0m\u001b[0;34m)\u001b[0m\u001b[0;34m.\u001b[0m\u001b[0mall\u001b[0m\u001b[0;34m(\u001b[0m\u001b[0;34m)\u001b[0m\u001b[0;34m:\u001b[0m\u001b[0;34m\u001b[0m\u001b[0;34m\u001b[0m\u001b[0m\n\u001b[0;32m-> 1213\u001b[0;31m         raise IntCastingNaNError(\n\u001b[0m\u001b[1;32m   1214\u001b[0m             \u001b[0;34m\"Cannot convert non-finite values (NA or inf) to integer\"\u001b[0m\u001b[0;34m\u001b[0m\u001b[0;34m\u001b[0m\u001b[0m\n\u001b[1;32m   1215\u001b[0m         )\n",
      "\u001b[0;31mIntCastingNaNError\u001b[0m: Cannot convert non-finite values (NA or inf) to integer"
     ]
    }
   ],
   "source": [
    "## change data type from float to int\n",
    "##df['Acreage'] = pd.to_numeric(df['Acreage'], errors = 'coerce')\n",
    "##df['Acreage'] = df['Acreage'].astype('int64')\n",
    "\n",
    "##print(cl(df.dtypes, attrs = ['bold']))"
   ]
  },
  {
   "cell_type": "code",
   "execution_count": 114,
   "id": "e16640ce",
   "metadata": {},
   "outputs": [
    {
     "name": "stdout",
     "output_type": "stream",
     "text": [
      "       UniqueID         ParcelID        LandUse SalePrice    LegalReference  \\\n",
      "0          2045  007 00 0 125.00  SINGLE FAMILY    240000  20130412-0036474   \n",
      "1         16918  007 00 0 130.00  SINGLE FAMILY    366000  20140619-0053768   \n",
      "2         54582  007 00 0 138.00  SINGLE FAMILY    435000  20160927-0101718   \n",
      "3         43070  007 00 0 143.00  SINGLE FAMILY    255000  20160129-0008913   \n",
      "4         22714  007 00 0 149.00  SINGLE FAMILY    278000  20141015-0095255   \n",
      "...         ...              ...            ...       ...               ...   \n",
      "54106     51558  180 00 0 081.00  SINGLE FAMILY    258000  20160712-0071418   \n",
      "54107     34115  180 00 0 085.00  SINGLE FAMILY    339528  20150804-0077423   \n",
      "54108     20731  180 00 0 094.00  SINGLE FAMILY    230000  20140905-0081621   \n",
      "54109     23447  180 00 0 114.00  SINGLE FAMILY    237900  20141125-0108837   \n",
      "54110     23448  180 00 0 230.00  SINGLE FAMILY    259000  20141203-0110910   \n",
      "\n",
      "      SoldAsVacant                           OwnerName  Acreage  LandValue  \\\n",
      "0               No            FRAZIER CYRENTHA LYNETTE     2.30    50000.0   \n",
      "1               No              BONER CHARLES & LESLIE     3.50    50000.0   \n",
      "2               No            WILSON JAMES E. & JOANNE     2.90    50000.0   \n",
      "3               No             BAKER JAY K. & SUSAN E.     2.60    50000.0   \n",
      "4               No   POST CHRISTOPHER M. & SAMANTHA C.     2.00    50000.0   \n",
      "...            ...                                 ...      ...        ...   \n",
      "54106           No          CAHILL DAVID W. II & MORYN     3.00   111000.0   \n",
      "54107           No        MISRA SANJEEV & YABKO STACEY     3.00   111000.0   \n",
      "54108           No  RALSTON MARY DEE IRREVOCABLE TRUST     3.03   111500.0   \n",
      "54109           No               MARTIN KARA F. & SETH     1.03    59000.0   \n",
      "54110           No       AKERS DOUGLAS P. & MELISSA W.     0.46    59000.0   \n",
      "\n",
      "       BuildingValue  ...  YearBuilt  Bedrooms  FullBath  HalfBath  \\\n",
      "0           168200.0  ...     1986.0       3.0       3.0       0.0   \n",
      "1           264100.0  ...     1998.0       3.0       3.0       2.0   \n",
      "2           216200.0  ...     1987.0       4.0       3.0       0.0   \n",
      "3           147300.0  ...     1985.0       3.0       3.0       0.0   \n",
      "4           152300.0  ...     1984.0       4.0       3.0       0.0   \n",
      "...              ...  ...        ...       ...       ...       ...   \n",
      "54106       155800.0  ...     1978.0       4.0       2.0       0.0   \n",
      "54107       141700.0  ...     1978.0       3.0       2.0       0.0   \n",
      "54108       210400.0  ...     1980.0       3.0       2.0       0.0   \n",
      "54109       104100.0  ...     1985.0       3.0       3.0       0.0   \n",
      "54110       194000.0  ...     2001.0       3.0       2.0       1.0   \n",
      "\n",
      "       SaleDateConverted PropertySplitAddress PropertySplictCity  \\\n",
      "0             2013-04-09   1808  FOX CHASE DR     GOODLETTSVILLE   \n",
      "1             2014-06-10   1832  FOX CHASE DR     GOODLETTSVILLE   \n",
      "2             2016-09-26   1864 FOX CHASE  DR     GOODLETTSVILLE   \n",
      "3             2016-01-29   1853  FOX CHASE DR     GOODLETTSVILLE   \n",
      "4             2014-10-10   1829  FOX CHASE DR     GOODLETTSVILLE   \n",
      "...                  ...                  ...                ...   \n",
      "54106         2016-07-08        6640 HOLT  RD          NASHVILLE   \n",
      "54107         2015-07-27        6608  HOLT RD          NASHVILLE   \n",
      "54108         2014-09-05        6635  HOLT RD          NASHVILLE   \n",
      "54109         2014-11-24     6552  REDMOND LN          NASHVILLE   \n",
      "54110         2014-11-12   105  HOLT HILLS RD          NASHVILLE   \n",
      "\n",
      "        OwnerSplitAddress  OwnerSplictCity OwnerSplictState  \n",
      "0      1808  FOX CHASE DR   GOODLETTSVILLE               TN  \n",
      "1      1832  FOX CHASE DR   GOODLETTSVILLE               TN  \n",
      "2      1864  FOX CHASE DR   GOODLETTSVILLE               TN  \n",
      "3      1853  FOX CHASE DR   GOODLETTSVILLE               TN  \n",
      "4      1829  FOX CHASE DR   GOODLETTSVILLE               TN  \n",
      "...                   ...              ...              ...  \n",
      "54106       6640  HOLT RD        NASHVILLE               TN  \n",
      "54107       6608  HOLT RD        NASHVILLE               TN  \n",
      "54108       6635  HOLT RD        NASHVILLE               TN  \n",
      "54109    6552  REDMOND LN        NASHVILLE               TN  \n",
      "54110  105  HOLT HILLS RD        NASHVILLE               TN  \n",
      "\n",
      "[23678 rows x 21 columns]\n"
     ]
    }
   ],
   "source": [
    "##df = df.replace(',','', regex=True)\n",
    "df = df.replace(',', '').replace('$', '')\n",
    "#df['Avg_Annual'] = df['Avg_Annual'].astype(int)\n",
    "\n",
    "\n",
    "X = df[['Acreage', 'Bedrooms', 'LandValue', 'BuildingValue']].values\n",
    "y = df[['SalePrice']].values\n",
    "\n",
    "print(df)\n"
   ]
  },
  {
   "cell_type": "code",
   "execution_count": 135,
   "id": "73315d47",
   "metadata": {},
   "outputs": [
    {
     "ename": "KeyError",
     "evalue": "\"None of [Index([  (2.3, 3.0, 50000.0, 168200.0),   (3.5, 3.0, 50000.0, 264100.0),\\n         (2.9, 4.0, 50000.0, 216200.0),   (2.6, 3.0, 50000.0, 147300.0),\\n         (2.0, 4.0, 50000.0, 152300.0),   (2.0, 3.0, 50000.0, 190400.0),\\n        (1.03, 3.0, 40000.0, 137900.0),  (1.03, 3.0, 40000.0, 157900.0),\\n        (1.67, 3.0, 45400.0, 176900.0),   (1.3, 5.0, 40000.0, 179600.0),\\n       ...\\n        (0.29, 3.0, 25000.0, 102800.0),  (0.26, 3.0, 25000.0, 111800.0),\\n         (0.23, 3.0, 25000.0, 95000.0),  (0.23, 3.0, 25000.0, 159300.0),\\n        (3.0, 4.0, 111000.0, 140400.0),  (3.0, 4.0, 111000.0, 155800.0),\\n        (3.0, 3.0, 111000.0, 141700.0), (3.03, 3.0, 111500.0, 210400.0),\\n        (1.03, 3.0, 59000.0, 104100.0),  (0.46, 3.0, 59000.0, 194000.0)],\\n      dtype='object', length=23678)] are in the [columns]\"",
     "output_type": "error",
     "traceback": [
      "\u001b[0;31m---------------------------------------------------------------------------\u001b[0m",
      "\u001b[0;31mKeyError\u001b[0m                                  Traceback (most recent call last)",
      "\u001b[0;32m/var/folders/gn/d7g9hnzn0m39k1cp63phbvgm0000gn/T/ipykernel_20045/2415773819.py\u001b[0m in \u001b[0;36m<module>\u001b[0;34m\u001b[0m\n\u001b[1;32m      7\u001b[0m \u001b[0;31m##df['LandValue'] = df['LandValue'].replace('$', '')\u001b[0m\u001b[0;34m\u001b[0m\u001b[0;34m\u001b[0m\u001b[0;34m\u001b[0m\u001b[0m\n\u001b[1;32m      8\u001b[0m \u001b[0;34m\u001b[0m\u001b[0m\n\u001b[0;32m----> 9\u001b[0;31m \u001b[0mdf\u001b[0m\u001b[0;34m[\u001b[0m\u001b[0mX\u001b[0m\u001b[0;34m]\u001b[0m \u001b[0;34m=\u001b[0m \u001b[0mdf\u001b[0m\u001b[0;34m[\u001b[0m\u001b[0mX\u001b[0m\u001b[0;34m]\u001b[0m\u001b[0;34m.\u001b[0m\u001b[0mreplace\u001b[0m\u001b[0;34m(\u001b[0m\u001b[0;34m{\u001b[0m\u001b[0;34m'\\$'\u001b[0m\u001b[0;34m:\u001b[0m \u001b[0;34m''\u001b[0m\u001b[0;34m,\u001b[0m \u001b[0;34m','\u001b[0m\u001b[0;34m:\u001b[0m \u001b[0;34m''\u001b[0m\u001b[0;34m}\u001b[0m\u001b[0;34m,\u001b[0m \u001b[0mregex\u001b[0m\u001b[0;34m=\u001b[0m\u001b[0;32mTrue\u001b[0m\u001b[0;34m)\u001b[0m\u001b[0;34m\u001b[0m\u001b[0;34m\u001b[0m\u001b[0m\n\u001b[0m\u001b[1;32m     10\u001b[0m \u001b[0mdf\u001b[0m\u001b[0;34m[\u001b[0m\u001b[0my\u001b[0m\u001b[0;34m]\u001b[0m \u001b[0;34m=\u001b[0m \u001b[0mdf\u001b[0m\u001b[0;34m[\u001b[0m\u001b[0my\u001b[0m\u001b[0;34m]\u001b[0m\u001b[0;34m.\u001b[0m\u001b[0mreplace\u001b[0m\u001b[0;34m(\u001b[0m\u001b[0;34m{\u001b[0m\u001b[0;34m'\\$'\u001b[0m\u001b[0;34m:\u001b[0m \u001b[0;34m''\u001b[0m\u001b[0;34m,\u001b[0m \u001b[0;34m','\u001b[0m\u001b[0;34m:\u001b[0m \u001b[0;34m''\u001b[0m\u001b[0;34m}\u001b[0m\u001b[0;34m,\u001b[0m \u001b[0mregex\u001b[0m\u001b[0;34m=\u001b[0m\u001b[0;32mTrue\u001b[0m\u001b[0;34m)\u001b[0m\u001b[0;34m\u001b[0m\u001b[0;34m\u001b[0m\u001b[0m\n",
      "\u001b[0;32m~/jupyter/lib/python3.9/site-packages/pandas/core/frame.py\u001b[0m in \u001b[0;36m__getitem__\u001b[0;34m(self, key)\u001b[0m\n\u001b[1;32m   3459\u001b[0m             \u001b[0;32mif\u001b[0m \u001b[0mis_iterator\u001b[0m\u001b[0;34m(\u001b[0m\u001b[0mkey\u001b[0m\u001b[0;34m)\u001b[0m\u001b[0;34m:\u001b[0m\u001b[0;34m\u001b[0m\u001b[0;34m\u001b[0m\u001b[0m\n\u001b[1;32m   3460\u001b[0m                 \u001b[0mkey\u001b[0m \u001b[0;34m=\u001b[0m \u001b[0mlist\u001b[0m\u001b[0;34m(\u001b[0m\u001b[0mkey\u001b[0m\u001b[0;34m)\u001b[0m\u001b[0;34m\u001b[0m\u001b[0;34m\u001b[0m\u001b[0m\n\u001b[0;32m-> 3461\u001b[0;31m             \u001b[0mindexer\u001b[0m \u001b[0;34m=\u001b[0m \u001b[0mself\u001b[0m\u001b[0;34m.\u001b[0m\u001b[0mloc\u001b[0m\u001b[0;34m.\u001b[0m\u001b[0m_get_listlike_indexer\u001b[0m\u001b[0;34m(\u001b[0m\u001b[0mkey\u001b[0m\u001b[0;34m,\u001b[0m \u001b[0maxis\u001b[0m\u001b[0;34m=\u001b[0m\u001b[0;36m1\u001b[0m\u001b[0;34m)\u001b[0m\u001b[0;34m[\u001b[0m\u001b[0;36m1\u001b[0m\u001b[0;34m]\u001b[0m\u001b[0;34m\u001b[0m\u001b[0;34m\u001b[0m\u001b[0m\n\u001b[0m\u001b[1;32m   3462\u001b[0m \u001b[0;34m\u001b[0m\u001b[0m\n\u001b[1;32m   3463\u001b[0m         \u001b[0;31m# take() does not accept boolean indexers\u001b[0m\u001b[0;34m\u001b[0m\u001b[0;34m\u001b[0m\u001b[0;34m\u001b[0m\u001b[0m\n",
      "\u001b[0;32m~/jupyter/lib/python3.9/site-packages/pandas/core/indexing.py\u001b[0m in \u001b[0;36m_get_listlike_indexer\u001b[0;34m(self, key, axis)\u001b[0m\n\u001b[1;32m   1312\u001b[0m             \u001b[0mkeyarr\u001b[0m\u001b[0;34m,\u001b[0m \u001b[0mindexer\u001b[0m\u001b[0;34m,\u001b[0m \u001b[0mnew_indexer\u001b[0m \u001b[0;34m=\u001b[0m \u001b[0max\u001b[0m\u001b[0;34m.\u001b[0m\u001b[0m_reindex_non_unique\u001b[0m\u001b[0;34m(\u001b[0m\u001b[0mkeyarr\u001b[0m\u001b[0;34m)\u001b[0m\u001b[0;34m\u001b[0m\u001b[0;34m\u001b[0m\u001b[0m\n\u001b[1;32m   1313\u001b[0m \u001b[0;34m\u001b[0m\u001b[0m\n\u001b[0;32m-> 1314\u001b[0;31m         \u001b[0mself\u001b[0m\u001b[0;34m.\u001b[0m\u001b[0m_validate_read_indexer\u001b[0m\u001b[0;34m(\u001b[0m\u001b[0mkeyarr\u001b[0m\u001b[0;34m,\u001b[0m \u001b[0mindexer\u001b[0m\u001b[0;34m,\u001b[0m \u001b[0maxis\u001b[0m\u001b[0;34m)\u001b[0m\u001b[0;34m\u001b[0m\u001b[0;34m\u001b[0m\u001b[0m\n\u001b[0m\u001b[1;32m   1315\u001b[0m \u001b[0;34m\u001b[0m\u001b[0m\n\u001b[1;32m   1316\u001b[0m         if needs_i8_conversion(ax.dtype) or isinstance(\n",
      "\u001b[0;32m~/jupyter/lib/python3.9/site-packages/pandas/core/indexing.py\u001b[0m in \u001b[0;36m_validate_read_indexer\u001b[0;34m(self, key, indexer, axis)\u001b[0m\n\u001b[1;32m   1372\u001b[0m                 \u001b[0;32mif\u001b[0m \u001b[0muse_interval_msg\u001b[0m\u001b[0;34m:\u001b[0m\u001b[0;34m\u001b[0m\u001b[0;34m\u001b[0m\u001b[0m\n\u001b[1;32m   1373\u001b[0m                     \u001b[0mkey\u001b[0m \u001b[0;34m=\u001b[0m \u001b[0mlist\u001b[0m\u001b[0;34m(\u001b[0m\u001b[0mkey\u001b[0m\u001b[0;34m)\u001b[0m\u001b[0;34m\u001b[0m\u001b[0;34m\u001b[0m\u001b[0m\n\u001b[0;32m-> 1374\u001b[0;31m                 \u001b[0;32mraise\u001b[0m \u001b[0mKeyError\u001b[0m\u001b[0;34m(\u001b[0m\u001b[0;34mf\"None of [{key}] are in the [{axis_name}]\"\u001b[0m\u001b[0;34m)\u001b[0m\u001b[0;34m\u001b[0m\u001b[0;34m\u001b[0m\u001b[0m\n\u001b[0m\u001b[1;32m   1375\u001b[0m \u001b[0;34m\u001b[0m\u001b[0m\n\u001b[1;32m   1376\u001b[0m             \u001b[0mnot_found\u001b[0m \u001b[0;34m=\u001b[0m \u001b[0mlist\u001b[0m\u001b[0;34m(\u001b[0m\u001b[0mensure_index\u001b[0m\u001b[0;34m(\u001b[0m\u001b[0mkey\u001b[0m\u001b[0;34m)\u001b[0m\u001b[0;34m[\u001b[0m\u001b[0mmissing_mask\u001b[0m\u001b[0;34m.\u001b[0m\u001b[0mnonzero\u001b[0m\u001b[0;34m(\u001b[0m\u001b[0;34m)\u001b[0m\u001b[0;34m[\u001b[0m\u001b[0;36m0\u001b[0m\u001b[0;34m]\u001b[0m\u001b[0;34m]\u001b[0m\u001b[0;34m.\u001b[0m\u001b[0munique\u001b[0m\u001b[0;34m(\u001b[0m\u001b[0;34m)\u001b[0m\u001b[0;34m)\u001b[0m\u001b[0;34m\u001b[0m\u001b[0;34m\u001b[0m\u001b[0m\n",
      "\u001b[0;31mKeyError\u001b[0m: \"None of [Index([  (2.3, 3.0, 50000.0, 168200.0),   (3.5, 3.0, 50000.0, 264100.0),\\n         (2.9, 4.0, 50000.0, 216200.0),   (2.6, 3.0, 50000.0, 147300.0),\\n         (2.0, 4.0, 50000.0, 152300.0),   (2.0, 3.0, 50000.0, 190400.0),\\n        (1.03, 3.0, 40000.0, 137900.0),  (1.03, 3.0, 40000.0, 157900.0),\\n        (1.67, 3.0, 45400.0, 176900.0),   (1.3, 5.0, 40000.0, 179600.0),\\n       ...\\n        (0.29, 3.0, 25000.0, 102800.0),  (0.26, 3.0, 25000.0, 111800.0),\\n         (0.23, 3.0, 25000.0, 95000.0),  (0.23, 3.0, 25000.0, 159300.0),\\n        (3.0, 4.0, 111000.0, 140400.0),  (3.0, 4.0, 111000.0, 155800.0),\\n        (3.0, 3.0, 111000.0, 141700.0), (3.03, 3.0, 111500.0, 210400.0),\\n        (1.03, 3.0, 59000.0, 104100.0),  (0.46, 3.0, 59000.0, 194000.0)],\\n      dtype='object', length=23678)] are in the [columns]\""
     ]
    }
   ],
   "source": [
    "#df['SalePrice'] = df['SalePrice'].str.replace(',', '')\n",
    "#df['SalePrice'] = df['SalePrice'].str.replace('$', '')\n",
    "#df['SalePrice'] = df['SalePrice'].astype(int)\n",
    "\n",
    "##df['SalePrice'] = df['SalePrice'].replace('$', '')\n",
    "##df['BuildingValue'] = df['BuildingValue'].replace('$', '')\n",
    "##df['LandValue'] = df['LandValue'].replace('$', '')\n",
    "\n",
    "df[X] = df[X].replace({'\\$': '', ',': ''}, regex=True)\n",
    "df[y] = df[y].replace({'\\$': '', ',': ''}, regex=True)"
   ]
  },
  {
   "cell_type": "code",
   "execution_count": 136,
   "id": "f7ff529c",
   "metadata": {},
   "outputs": [],
   "source": [
    "from sklearn.model_selection import train_test_split\n",
    "\n",
    "X_train, X_test, y_train, y_test = train_test_split(X, y, test_size=0.2, random_state=0)"
   ]
  },
  {
   "cell_type": "code",
   "execution_count": 137,
   "id": "317990ae",
   "metadata": {},
   "outputs": [
    {
     "ename": "ValueError",
     "evalue": "could not convert string to float: '$120000 '",
     "output_type": "error",
     "traceback": [
      "\u001b[0;31m---------------------------------------------------------------------------\u001b[0m",
      "\u001b[0;31mValueError\u001b[0m                                Traceback (most recent call last)",
      "\u001b[0;32m/var/folders/gn/d7g9hnzn0m39k1cp63phbvgm0000gn/T/ipykernel_20045/2618439950.py\u001b[0m in \u001b[0;36m<module>\u001b[0;34m\u001b[0m\n\u001b[1;32m      1\u001b[0m \u001b[0mLinReg\u001b[0m \u001b[0;34m=\u001b[0m \u001b[0mLinearRegression\u001b[0m\u001b[0;34m(\u001b[0m\u001b[0;34m)\u001b[0m\u001b[0;34m\u001b[0m\u001b[0;34m\u001b[0m\u001b[0m\n\u001b[0;32m----> 2\u001b[0;31m \u001b[0mLinReg\u001b[0m\u001b[0;34m.\u001b[0m\u001b[0mfit\u001b[0m\u001b[0;34m(\u001b[0m\u001b[0mX\u001b[0m\u001b[0;34m,\u001b[0m\u001b[0my\u001b[0m\u001b[0;34m)\u001b[0m\u001b[0;34m\u001b[0m\u001b[0;34m\u001b[0m\u001b[0m\n\u001b[0m\u001b[1;32m      3\u001b[0m \u001b[0mprint\u001b[0m\u001b[0;34m(\u001b[0m\u001b[0mLinReg\u001b[0m\u001b[0;34m.\u001b[0m\u001b[0mintercept_\u001b[0m\u001b[0;34m,\u001b[0m \u001b[0mLinReg\u001b[0m\u001b[0;34m.\u001b[0m\u001b[0mcoef_\u001b[0m\u001b[0;34m)\u001b[0m\u001b[0;34m\u001b[0m\u001b[0;34m\u001b[0m\u001b[0m\n",
      "\u001b[0;32m~/jupyter/lib/python3.9/site-packages/sklearn/linear_model/_base.py\u001b[0m in \u001b[0;36mfit\u001b[0;34m(self, X, y, sample_weight)\u001b[0m\n\u001b[1;32m    516\u001b[0m         \u001b[0maccept_sparse\u001b[0m \u001b[0;34m=\u001b[0m \u001b[0;32mFalse\u001b[0m \u001b[0;32mif\u001b[0m \u001b[0mself\u001b[0m\u001b[0;34m.\u001b[0m\u001b[0mpositive\u001b[0m \u001b[0;32melse\u001b[0m \u001b[0;34m[\u001b[0m\u001b[0;34m'csr'\u001b[0m\u001b[0;34m,\u001b[0m \u001b[0;34m'csc'\u001b[0m\u001b[0;34m,\u001b[0m \u001b[0;34m'coo'\u001b[0m\u001b[0;34m]\u001b[0m\u001b[0;34m\u001b[0m\u001b[0;34m\u001b[0m\u001b[0m\n\u001b[1;32m    517\u001b[0m \u001b[0;34m\u001b[0m\u001b[0m\n\u001b[0;32m--> 518\u001b[0;31m         X, y = self._validate_data(X, y, accept_sparse=accept_sparse,\n\u001b[0m\u001b[1;32m    519\u001b[0m                                    y_numeric=True, multi_output=True)\n\u001b[1;32m    520\u001b[0m \u001b[0;34m\u001b[0m\u001b[0m\n",
      "\u001b[0;32m~/jupyter/lib/python3.9/site-packages/sklearn/base.py\u001b[0m in \u001b[0;36m_validate_data\u001b[0;34m(self, X, y, reset, validate_separately, **check_params)\u001b[0m\n\u001b[1;32m    431\u001b[0m                 \u001b[0my\u001b[0m \u001b[0;34m=\u001b[0m \u001b[0mcheck_array\u001b[0m\u001b[0;34m(\u001b[0m\u001b[0my\u001b[0m\u001b[0;34m,\u001b[0m \u001b[0;34m**\u001b[0m\u001b[0mcheck_y_params\u001b[0m\u001b[0;34m)\u001b[0m\u001b[0;34m\u001b[0m\u001b[0;34m\u001b[0m\u001b[0m\n\u001b[1;32m    432\u001b[0m             \u001b[0;32melse\u001b[0m\u001b[0;34m:\u001b[0m\u001b[0;34m\u001b[0m\u001b[0;34m\u001b[0m\u001b[0m\n\u001b[0;32m--> 433\u001b[0;31m                 \u001b[0mX\u001b[0m\u001b[0;34m,\u001b[0m \u001b[0my\u001b[0m \u001b[0;34m=\u001b[0m \u001b[0mcheck_X_y\u001b[0m\u001b[0;34m(\u001b[0m\u001b[0mX\u001b[0m\u001b[0;34m,\u001b[0m \u001b[0my\u001b[0m\u001b[0;34m,\u001b[0m \u001b[0;34m**\u001b[0m\u001b[0mcheck_params\u001b[0m\u001b[0;34m)\u001b[0m\u001b[0;34m\u001b[0m\u001b[0;34m\u001b[0m\u001b[0m\n\u001b[0m\u001b[1;32m    434\u001b[0m             \u001b[0mout\u001b[0m \u001b[0;34m=\u001b[0m \u001b[0mX\u001b[0m\u001b[0;34m,\u001b[0m \u001b[0my\u001b[0m\u001b[0;34m\u001b[0m\u001b[0;34m\u001b[0m\u001b[0m\n\u001b[1;32m    435\u001b[0m \u001b[0;34m\u001b[0m\u001b[0m\n",
      "\u001b[0;32m~/jupyter/lib/python3.9/site-packages/sklearn/utils/validation.py\u001b[0m in \u001b[0;36minner_f\u001b[0;34m(*args, **kwargs)\u001b[0m\n\u001b[1;32m     61\u001b[0m             \u001b[0mextra_args\u001b[0m \u001b[0;34m=\u001b[0m \u001b[0mlen\u001b[0m\u001b[0;34m(\u001b[0m\u001b[0margs\u001b[0m\u001b[0;34m)\u001b[0m \u001b[0;34m-\u001b[0m \u001b[0mlen\u001b[0m\u001b[0;34m(\u001b[0m\u001b[0mall_args\u001b[0m\u001b[0;34m)\u001b[0m\u001b[0;34m\u001b[0m\u001b[0;34m\u001b[0m\u001b[0m\n\u001b[1;32m     62\u001b[0m             \u001b[0;32mif\u001b[0m \u001b[0mextra_args\u001b[0m \u001b[0;34m<=\u001b[0m \u001b[0;36m0\u001b[0m\u001b[0;34m:\u001b[0m\u001b[0;34m\u001b[0m\u001b[0;34m\u001b[0m\u001b[0m\n\u001b[0;32m---> 63\u001b[0;31m                 \u001b[0;32mreturn\u001b[0m \u001b[0mf\u001b[0m\u001b[0;34m(\u001b[0m\u001b[0;34m*\u001b[0m\u001b[0margs\u001b[0m\u001b[0;34m,\u001b[0m \u001b[0;34m**\u001b[0m\u001b[0mkwargs\u001b[0m\u001b[0;34m)\u001b[0m\u001b[0;34m\u001b[0m\u001b[0;34m\u001b[0m\u001b[0m\n\u001b[0m\u001b[1;32m     64\u001b[0m \u001b[0;34m\u001b[0m\u001b[0m\n\u001b[1;32m     65\u001b[0m             \u001b[0;31m# extra_args > 0\u001b[0m\u001b[0;34m\u001b[0m\u001b[0;34m\u001b[0m\u001b[0;34m\u001b[0m\u001b[0m\n",
      "\u001b[0;32m~/jupyter/lib/python3.9/site-packages/sklearn/utils/validation.py\u001b[0m in \u001b[0;36mcheck_X_y\u001b[0;34m(X, y, accept_sparse, accept_large_sparse, dtype, order, copy, force_all_finite, ensure_2d, allow_nd, multi_output, ensure_min_samples, ensure_min_features, y_numeric, estimator)\u001b[0m\n\u001b[1;32m    884\u001b[0m         \u001b[0m_assert_all_finite\u001b[0m\u001b[0;34m(\u001b[0m\u001b[0my\u001b[0m\u001b[0;34m)\u001b[0m\u001b[0;34m\u001b[0m\u001b[0;34m\u001b[0m\u001b[0m\n\u001b[1;32m    885\u001b[0m     \u001b[0;32mif\u001b[0m \u001b[0my_numeric\u001b[0m \u001b[0;32mand\u001b[0m \u001b[0my\u001b[0m\u001b[0;34m.\u001b[0m\u001b[0mdtype\u001b[0m\u001b[0;34m.\u001b[0m\u001b[0mkind\u001b[0m \u001b[0;34m==\u001b[0m \u001b[0;34m'O'\u001b[0m\u001b[0;34m:\u001b[0m\u001b[0;34m\u001b[0m\u001b[0;34m\u001b[0m\u001b[0m\n\u001b[0;32m--> 886\u001b[0;31m         \u001b[0my\u001b[0m \u001b[0;34m=\u001b[0m \u001b[0my\u001b[0m\u001b[0;34m.\u001b[0m\u001b[0mastype\u001b[0m\u001b[0;34m(\u001b[0m\u001b[0mnp\u001b[0m\u001b[0;34m.\u001b[0m\u001b[0mfloat64\u001b[0m\u001b[0;34m)\u001b[0m\u001b[0;34m\u001b[0m\u001b[0;34m\u001b[0m\u001b[0m\n\u001b[0m\u001b[1;32m    887\u001b[0m \u001b[0;34m\u001b[0m\u001b[0m\n\u001b[1;32m    888\u001b[0m     \u001b[0mcheck_consistent_length\u001b[0m\u001b[0;34m(\u001b[0m\u001b[0mX\u001b[0m\u001b[0;34m,\u001b[0m \u001b[0my\u001b[0m\u001b[0;34m)\u001b[0m\u001b[0;34m\u001b[0m\u001b[0;34m\u001b[0m\u001b[0m\n",
      "\u001b[0;31mValueError\u001b[0m: could not convert string to float: '$120000 '"
     ]
    }
   ],
   "source": [
    "LinReg = LinearRegression()\n",
    "LinReg.fit(X,y)\n",
    "print(LinReg.intercept_, LinReg.coef_)"
   ]
  },
  {
   "cell_type": "code",
   "execution_count": 57,
   "id": "ae8d8ad4",
   "metadata": {},
   "outputs": [
    {
     "ename": "NameError",
     "evalue": "name 'linear_model' is not defined",
     "output_type": "error",
     "traceback": [
      "\u001b[0;31m---------------------------------------------------------------------------\u001b[0m",
      "\u001b[0;31mNameError\u001b[0m                                 Traceback (most recent call last)",
      "\u001b[0;32m/var/folders/gn/d7g9hnzn0m39k1cp63phbvgm0000gn/T/ipykernel_20045/3344026944.py\u001b[0m in \u001b[0;36m<module>\u001b[0;34m\u001b[0m\n\u001b[0;32m----> 1\u001b[0;31m \u001b[0mhelp\u001b[0m\u001b[0;34m(\u001b[0m\u001b[0mlinear_model\u001b[0m\u001b[0;34m)\u001b[0m\u001b[0;34m\u001b[0m\u001b[0;34m\u001b[0m\u001b[0m\n\u001b[0m",
      "\u001b[0;31mNameError\u001b[0m: name 'linear_model' is not defined"
     ]
    }
   ],
   "source": [
    "\n"
   ]
  }
 ],
 "metadata": {
  "kernelspec": {
   "display_name": "Python 3 (ipykernel)",
   "language": "python",
   "name": "python3"
  },
  "language_info": {
   "codemirror_mode": {
    "name": "ipython",
    "version": 3
   },
   "file_extension": ".py",
   "mimetype": "text/x-python",
   "name": "python",
   "nbconvert_exporter": "python",
   "pygments_lexer": "ipython3",
   "version": "3.9.6"
  }
 },
 "nbformat": 4,
 "nbformat_minor": 5
}
